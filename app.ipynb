{
 "cells": [
  {
   "cell_type": "code",
   "execution_count": 4,
   "metadata": {},
   "outputs": [],
   "source": [
    "# extract .csv to .txt \n",
    "import csv\n",
    "import spacy\n",
    "\n",
    "inputfile = \"dataset/1/file2.csv\"\n",
    "outputfile = \"dataset/1/output2.txt\"\n",
    "\n",
    "try:\n",
    "    with open(inputfile) as csv_file:\n",
    "        csv_reader = csv.reader(csv_file, delimiter=',')\n",
    "        data = \"\"\n",
    "        for row in csv_reader:\n",
    "            line = row[0].strip()\n",
    "            data += f\"{line}\"\n",
    "except:\n",
    "    raise Exception(\"failed 1\")\n",
    "\n",
    "try:\n",
    "    file = open(outputfile, mode='w')\n",
    "    file.write(data)\n",
    "except:\n",
    "    raise Exception(\"Failed 2\")\n",
    "\n",
    "    \n",
    "\n"
   ]
  },
  {
   "cell_type": "code",
   "execution_count": 204,
   "metadata": {},
   "outputs": [
    {
     "name": "stdout",
     "output_type": "stream",
     "text": [
      "[['john boyega said fuck racist people lives and made the crackers MAD.'], ['we stan https://t.co/AANdYql29YA RAPIST SHOULD NEVER BE JUSTIFIED, NO!'], ['VOICE OF THE OPPRESSED✊🏴#SayNoToRape #JusticeForUwa #JusticeForTina #justiceforjennifer https://t.co/MxPobqLW7zSince I’ve stopped banking with access bank, I’ve been living in peace and harmony.'], ['No more daily heart attacks.'], ['https://t.co/EchC5gvGKBBlacks at least deserve to live in an America where they are not killed for being black.'], ['End the madness now #BlackLivesMatter@Laolux4 @myaccessbank @UBAGroup @wizkidayo If you don’t know RISKY you don’t know shit .... up wizzyI’m feelin like will.. i feel like a prince am feelin myself, im loaded with bills, coz i wasn’t blessed with no uncle phil.. don’t knw how it feels, i wanted to flex they told me to chill..148#Punchline #BlackLivesMatter@gtbank_help @gtbank all your customer care numbers are not going even the number of my account Manager biko I need the money ASAP please do something about it @gtbank @gtbank_helpSomething good to start the day 💃🏼💃🏼💃🏼.'], ['Thank you @MyFCMB https://t.co/JFwfFdrbSdRT @fakooluwafemi: @IkejaElectric @ieServe Account Number: 0100898091, ARN: IEOBY3101I I paid 113,000 into your account at Zenith Bank Ikorodu Branch on Nov 1st, 2019.'], ['My dashboard and e-bill has not reflected the payment.'], ['Pls help so that I can pay the 3rd installment.'], ['Account Number: 0100898091, ARN: IEOBY3101My city is on fire!'], ['God please take over.'], ['We need justice, we need to be heard, we need peace, and we want to be given equal opportunity.'], ['I am heart broken 💔💔#JusticeForGeorgeFlyod #PoliceBrutality #saynotoviolence #ICantBreathe https://t.co/BHIpzDzJjwThe #coronavirus global mainstream media conspiracy exposed.#PoliceBrutality#COVID19#lockdownextensionhttps://t.co/rai5F3t5I6It Finally posted!!!'], ['#JusticeForUwa #JusticeforTina#SayNoToRape https://t.co/3IxAYl6QEpRT @Sikowitz17: Simple Redesign of the dell promotional laptop page.'], ['It looked so congested so I set it free.RT @ZenithBank: The Chairman, Zenith Bank Plc receiving an honorary doctorate degree at the 2018 University of Lagos 50th Convocation Ceremony@raveesh752007 Allow us to get this checked.'], ['Please share your phone number via DM and we will look into it.'], [\"-Team Pizza Hut https://t.co/ZO15nw7mA0@MyFCMB, can you respond to your DM,it's been over 48hrs.\"], ['cc @fccpcnigeria @TundeIrukeraWhenever the issue of rape is discussed, our society asks questions that blame the victim instead of tackling the real problem.To speak against sexual violence, we must first realize that only the rapist is wrong #saynotorape #stoprape https://t.co/qa11MiQVhNNobody is focusing on her money.'], ['Nobody is focusing on her.'], [\"We're outhere calling out #PoliceBrutality.\"], ['Can she read the room.'], [\"https://t.co/HVK4VqU7DeBeauty mogul Kylie Jenner Growing tired of people focusing on her money https://t.co/fGJmPizD9sTomorrow will make it one month since I got debited by @zenithbank and still yet I have not my refunds of my money… https://t.co/aQZKx3yJ0L@fidelitybankplc transaction since on the 28 of November 2019 is not yet to be reverseIf you can't control your urge, a dog is better than you.#SayNoToRape#StopRapingWomenYou can donate via the link: https://t.co/HNh8ldnmYR Or through a direct transfer to Aid for Rural Education Access Initiative (AREAi) {1016373353 Zenith Bank}\"]]\n"
     ]
    }
   ],
   "source": [
    "# segment sentence csv\n",
    "\n",
    "import csv\n",
    "import spacy\n",
    "from spacy.language import Language\n",
    "from nltk.tokenize.punkt import PunktSentenceTokenizer, PunktParameters\n",
    "\n",
    "\n",
    "\n",
    "\n",
    "boundaries = \".\"\n",
    "\n",
    "\n",
    "inputfile = \"dataset/test.txt\"\n",
    "outputfile = \"dataset/test.csv\"\n",
    "\n",
    "\n",
    "# custom boundary for spacy\n",
    "# @Language.component(\"add_custom_boundary\")\n",
    "# def add_custom_boundary(doc):\n",
    "#     for i, token in enumerate(doc[:-2]):\n",
    "#         # Define sentence start if pipe + titlecase token\n",
    "#         if token.text == \"!\" and doc[i + 1].is_title:\n",
    "#             doc[i + 1].is_sent_start = True\n",
    "#         else:\n",
    "#             # Explicitly set sentence start to False otherwise, to tell\n",
    "#             # the parser to leave those tokens alone\n",
    "#             doc[i + 1].is_sent_start = False\n",
    "#     return doc\n",
    "\n",
    "\n",
    "\n",
    "\n",
    "#Spacy \n",
    "def segment_sent_spacy(sent):\n",
    "    sentences = []\n",
    "    nlp = spacy.load(\"en_core_web_sm\")\n",
    "    # nlp.add_pipe(\"add_custom_boundary\", before=\"parser\")\n",
    "    doc = nlp(sent)\n",
    "    assert doc.has_annotation(\"SENT_START\")\n",
    "    for sent in doc.sents:\n",
    "        sentences.append([sent.text])\n",
    "    return sentences\n",
    "    \n",
    "\n",
    "def segment_sent_nltk(sent):\n",
    "    punkt_param = PunktParameters()\n",
    "    abbreviation = ['u.s.a', \"map\", 'fig']\n",
    "    punkt_param.abbrev_types = set(abbreviation)\n",
    "    tokenizer = PunktSentenceTokenizer(punkt_param)\n",
    "    sentences = []\n",
    "    for index, token in enumerate(tokenizer.tokenize(sent)):\n",
    "        sentences.append([token])\n",
    "    return sentences\n",
    "        \n",
    "    \n",
    "\n",
    "\n",
    "\n",
    "try:\n",
    "    data = \"\"\n",
    "    with open(inputfile) as lines:\n",
    "        for line in lines:\n",
    "            data += line.strip()\n",
    "except:\n",
    "    raise Exception(\"Failed 2\")\n",
    "\n",
    "\n",
    "\n",
    "try:\n",
    "    result = segment_sent_nltk(data) # segment sentence\n",
    "    print(result)\n",
    "    with open(outputfile, mode='w') as csvfile:\n",
    "        csvwriter = csv.writer(csvfile)\n",
    "        csvwriter.writerow([\"Text\"])\n",
    "        csvwriter.writerows(result)\n",
    "except:\n",
    "    print(\"error occured\")\n",
    "\n",
    "    raise Exception(\"\")\n",
    "\n",
    "\n"
   ]
  },
  {
   "cell_type": "code",
   "execution_count": 205,
   "metadata": {},
   "outputs": [],
   "source": [
    "# clean and remove links and empty lines\n",
    "\n",
    "import pandas\n",
    "\n",
    "inputfile = \"dataset/2/output2.csv\"\n",
    "outputfile = \"dataset/2/output_nolink.csv\"\n",
    "\n",
    "dataf = pandas.read_csv(inputfile)\n",
    "dataf.dropna(inplace=True) # remove empyty\n",
    "dataf.drop_duplicates(inplace=True) # remove duplicate\n",
    "dataf[\"Text\"] = dataf[\"Text\"].replace(to_replace=r'http\\S+', value='', regex=True) # remove links\n",
    "\n",
    "try:\n",
    "    f = open(outputfile, mode='w')\n",
    "    f.write(dataf.to_csv(index_label=False))\n",
    "except:\n",
    "    print(\"Error occured\")\n",
    "    raise Exception(\"\")\n"
   ]
  },
  {
   "cell_type": "code",
   "execution_count": 206,
   "metadata": {},
   "outputs": [
    {
     "name": "stdout",
     "output_type": "stream",
     "text": [
      "I  :yellow_heart:  FBN\n"
     ]
    }
   ],
   "source": [
    "import emoji\n",
    "\n",
    "result  =  emoji.demojize(\"I  💛  FBN\")\n",
    "print(result)\n"
   ]
  },
  {
   "cell_type": "code",
   "execution_count": 207,
   "metadata": {},
   "outputs": [],
   "source": [
    "# NLTK TOOLKIT\n",
    "# Using the PunktSentenceTokenizer from nltk.tokenize.punkt"
   ]
  },
  {
   "cell_type": "code",
   "execution_count": 208,
   "metadata": {},
   "outputs": [
    {
     "name": "stdout",
     "output_type": "stream",
     "text": [
      "['ohn boyega said fuck racist people lives and made the crackers MAD.']\n",
      "['we stan https://t.co/AANdYql29YA RAPIST SHOULD NEVER BE JUSTIFIED, NO!']\n",
      "['VOICE OF THE OPPRESSED✊🏴#SayNoToRape #JusticeForUwa #JusticeForTina #justiceforjennifer https://t.co/MxPobqLW7zSince I’ve stopped banking with access bank, I’ve been living in peace and harmony.']\n",
      "['No more daily heart attacks.']\n",
      "['https://t.co/EchC5gvGKBBlacks at least deserve to live in an America where they are not killed for being black.']\n",
      "['End the madness now #BlackLivesMatter@Laolux4 @myaccessbank @UBAGroup @wizkidayo If you don’t know RISKY you don’t know shit .... up wizzyI’m feelin like will.. i feel like a prince am feelin myself, im loaded with bills, coz i wasn’t blessed with no uncle phil.. don’t knw how it feels, i wanted to flex they told me to chill..148#Punchline #BlackLivesMatter@gtbank_help @gtbank all your customer care numbers are not going even the number of my account Manager biko I need the money ASAP please do something about it @gtbank @gtbank_helpSomething good to start the day 💃🏼💃🏼💃🏼.']\n",
      "['Thank you @MyFCMB https://t.co/JFwfFdrbSdRT @fakooluwafemi: @IkejaElectric @ieServe Account Number: 0100898091, ARN: IEOBY3101I I paid 113,000 into your account at Zenith Bank Ikorodu Branch on Nov 1st, 2019.']\n",
      "['My dashboard and e-bill has not reflected the payment.']\n",
      "['Pls help so that I can pay the 3rd installment.']\n",
      "['Account Number: 0100898091, ARN: IEOBY3101My city is on fire!']\n",
      "['God please take over.']\n",
      "['We need justice, we need to be heard, we need peace, and we want to be given equal opportunity.']\n",
      "['I am heart broken 💔💔#JusticeForGeorgeFlyod #PoliceBrutality #saynotoviolence #ICantBreathe https://t.co/BHIpzDzJjwThe #coronavirus global mainstream media conspiracy exposed.#PoliceBrutality#COVID19#lockdownextensionhttps://t.co/rai5F3t5I6It Finally posted!!!']\n",
      "['#JusticeForUwa #JusticeforTina#SayNoToRape https://t.co/3IxAYl6QEpRT @Sikowitz17: Simple Redesign of the dell promotional laptop page.']\n",
      "['It looked so congested so I set it free.RT @ZenithBank: The Chairman, Zenith Bank Plc receiving an honorary doctorate degree at the 2018 University of Lagos 50th Convocation Ceremony@raveesh752007 Allow us to get this checked.']\n",
      "['Please share your phone number via DM and we will look into it.']\n",
      "[\"-Team Pizza Hut https://t.co/ZO15nw7mA0@MyFCMB, can you respond to your DM,it's been over 48hrs.\"]\n",
      "['cc @fccpcnigeria @TundeIrukeraWhenever the issue of rape is discussed, our society asks questions that blame the victim instead of tackling the real problem.To speak against sexual violence, we must first realize that only the rapist is wrong #saynotorape #stoprape https://t.co/qa11MiQVhNNobody is focusing on her money.']\n",
      "['Nobody is focusing on her.']\n",
      "[\"We're outhere calling out #PoliceBrutality.\"]\n",
      "['Can she read the room.']\n",
      "[\"https://t.co/HVK4VqU7DeBeauty mogul Kylie Jenner Growing tired of people focusing on her money https://t.co/fGJmPizD9sTomorrow will make it one month since I got debited by @zenithbank and still yet I have not my refunds of my money… https://t.co/aQZKx3yJ0L@fidelitybankplc transaction since on the 28 of November 2019 is not yet to be reverseIf you can't control your urge, a dog is better than you.#SayNoToRape#StopRapingWomenYou can donate via the link: https://t.co/HNh8ldnmYR Or through a direct transfer to Aid for Rural Education Access Initiative (AREAi) {1016373353 Zenith Bank}\"]\n"
     ]
    }
   ],
   "source": [
    "from nltk.tokenize.punkt import PunktSentenceTokenizer, PunktParameters\n",
    "punkt_param = PunktParameters()\n",
    "abbreviation = ['u.s.a', \"map\", 'fig']\n",
    "punkt_param.abbrev_types = set(abbreviation)\n",
    "tokenizer = PunktSentenceTokenizer(punkt_param)\n",
    "sent =tokenizer.tokenize(\"ohn boyega said fuck racist people lives and made the crackers MAD. we stan https://t.co/AANdYql29YA RAPIST SHOULD NEVER BE JUSTIFIED, NO! VOICE OF THE OPPRESSED✊🏴#SayNoToRape #JusticeForUwa #JusticeForTina #justiceforjennifer https://t.co/MxPobqLW7zSince I’ve stopped banking with access bank, I’ve been living in peace and harmony. No more daily heart attacks. https://t.co/EchC5gvGKBBlacks at least deserve to live in an America where they are not killed for being black. End the madness now #BlackLivesMatter@Laolux4 @myaccessbank @UBAGroup @wizkidayo If you don’t know RISKY you don’t know shit .... up wizzyI’m feelin like will.. i feel like a prince am feelin myself, im loaded with bills, coz i wasn’t blessed with no uncle phil.. don’t knw how it feels, i wanted to flex they told me to chill..148#Punchline #BlackLivesMatter@gtbank_help @gtbank all your customer care numbers are not going even the number of my account Manager biko I need the money ASAP please do something about it @gtbank @gtbank_helpSomething good to start the day 💃🏼💃🏼💃🏼. Thank you @MyFCMB https://t.co/JFwfFdrbSdRT @fakooluwafemi: @IkejaElectric @ieServe Account Number: 0100898091, ARN: IEOBY3101I I paid 113,000 into your account at Zenith Bank Ikorodu Branch on Nov 1st, 2019. My dashboard and e-bill has not reflected the payment. Pls help so that I can pay the 3rd installment. Account Number: 0100898091, ARN: IEOBY3101My city is on fire! God please take over. We need justice, we need to be heard, we need peace, and we want to be given equal opportunity. I am heart broken 💔💔#JusticeForGeorgeFlyod #PoliceBrutality #saynotoviolence #ICantBreathe https://t.co/BHIpzDzJjwThe #coronavirus global mainstream media conspiracy exposed.#PoliceBrutality#COVID19#lockdownextensionhttps://t.co/rai5F3t5I6It Finally posted!!! #JusticeForUwa #JusticeforTina#SayNoToRape https://t.co/3IxAYl6QEpRT @Sikowitz17: Simple Redesign of the dell promotional laptop page. It looked so congested so I set it free.RT @ZenithBank: The Chairman, Zenith Bank Plc receiving an honorary doctorate degree at the 2018 University of Lagos 50th Convocation Ceremony@raveesh752007 Allow us to get this checked. Please share your phone number via DM and we will look into it. -Team Pizza Hut https://t.co/ZO15nw7mA0@MyFCMB, can you respond to your DM,it's been over 48hrs. cc @fccpcnigeria @TundeIrukeraWhenever the issue of rape is discussed, our society asks questions that blame the victim instead of tackling the real problem.To speak against sexual violence, we must first realize that only the rapist is wrong #saynotorape #stoprape https://t.co/qa11MiQVhNNobody is focusing on her money. Nobody is focusing on her. We're outhere calling out #PoliceBrutality. Can she read the room. https://t.co/HVK4VqU7DeBeauty mogul Kylie Jenner Growing tired of people focusing on her money https://t.co/fGJmPizD9sTomorrow will make it one month since I got debited by @zenithbank and still yet I have not my refunds of my money… https://t.co/aQZKx3yJ0L@fidelitybankplc transaction since on the 28 of November 2019 is not yet to be reverseIf you can't control your urge, a dog is better than you.#SayNoToRape#StopRapingWomenYou can donate via the link: https://t.co/HNh8ldnmYR Or through a direct transfer to Aid for Rural Education Access Initiative (AREAi) {1016373353 Zenith Bank} \")\n",
    "for i, t in enumerate(sent):\n",
    "    print([t])"
   ]
  },
  {
   "cell_type": "code",
   "execution_count": 209,
   "metadata": {},
   "outputs": [],
   "source": [
    "# import nltk.data\n",
    "\n",
    "# text = \"\"\n",
    "\n",
    "# sent_detector = nltk.data.load('tokenizers/punkt/english.pickle')\n",
    "# # print('\\n-----\\n'.join(sent_detector.tokenize(text.strip())))"
   ]
  }
 ],
 "metadata": {
  "kernelspec": {
   "display_name": "Python 3.9.12 ('base')",
   "language": "python",
   "name": "python3"
  },
  "language_info": {
   "codemirror_mode": {
    "name": "ipython",
    "version": 3
   },
   "file_extension": ".py",
   "mimetype": "text/x-python",
   "name": "python",
   "nbconvert_exporter": "python",
   "pygments_lexer": "ipython3",
   "version": "3.9.12"
  },
  "orig_nbformat": 4,
  "vscode": {
   "interpreter": {
    "hash": "c7b19b94048ce5ab9ce95f7cd9696990a9457ba0bd9fd9fb82d3c9987d65e8ab"
   }
  }
 },
 "nbformat": 4,
 "nbformat_minor": 2
}
